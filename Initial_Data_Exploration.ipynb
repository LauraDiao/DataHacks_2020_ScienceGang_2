{
 "cells": [
  {
   "cell_type": "markdown",
   "metadata": {},
   "source": [
    "# This is the beginning of the DataHacks ScienceGang Project"
   ]
  },
  {
   "cell_type": "markdown",
   "metadata": {},
   "source": [
    "## Part1: General Setup and Imports"
   ]
  },
  {
   "cell_type": "code",
   "execution_count": 48,
   "metadata": {},
   "outputs": [],
   "source": [
    "# general imports\n",
    "import os\n",
    "import numpy as np\n",
    "import pandas as pd\n",
    "import seaborn as sns\n",
    "import folium\n",
    "from folium import plugins\n",
    "\n",
    "# These lines set up graphing capabilities.\n",
    "import matplotlib as mpl\n",
    "import matplotlib.pyplot as plt\n",
    "plt.style.use('fivethirtyeight')\n",
    "pd.set_option('display.max_rows', 15)\n",
    "\n",
    "%matplotlib inline"
   ]
  },
  {
   "cell_type": "code",
   "execution_count": 2,
   "metadata": {},
   "outputs": [
    {
     "data": {
      "text/html": [
       "<div>\n",
       "<style scoped>\n",
       "    .dataframe tbody tr th:only-of-type {\n",
       "        vertical-align: middle;\n",
       "    }\n",
       "\n",
       "    .dataframe tbody tr th {\n",
       "        vertical-align: top;\n",
       "    }\n",
       "\n",
       "    .dataframe thead th {\n",
       "        text-align: right;\n",
       "    }\n",
       "</style>\n",
       "<table border=\"1\" class=\"dataframe\">\n",
       "  <thead>\n",
       "    <tr style=\"text-align: right;\">\n",
       "      <th></th>\n",
       "      <th>YearStart</th>\n",
       "      <th>YearEnd</th>\n",
       "      <th>LocationAbbr</th>\n",
       "      <th>LocationDesc</th>\n",
       "      <th>DataSource</th>\n",
       "      <th>Topic</th>\n",
       "      <th>Question</th>\n",
       "      <th>Response</th>\n",
       "      <th>DataValueUnit</th>\n",
       "      <th>DataValueType</th>\n",
       "      <th>...</th>\n",
       "      <th>LocationID</th>\n",
       "      <th>TopicID</th>\n",
       "      <th>QuestionID</th>\n",
       "      <th>DataValueTypeID</th>\n",
       "      <th>StratificationCategoryID1</th>\n",
       "      <th>StratificationID1</th>\n",
       "      <th>StratificationCategoryID2</th>\n",
       "      <th>StratificationID2</th>\n",
       "      <th>StratificationCategoryID3</th>\n",
       "      <th>StratificationID3</th>\n",
       "    </tr>\n",
       "  </thead>\n",
       "  <tbody>\n",
       "    <tr>\n",
       "      <th>0</th>\n",
       "      <td>2015</td>\n",
       "      <td>2015</td>\n",
       "      <td>US</td>\n",
       "      <td>United States</td>\n",
       "      <td>APIS</td>\n",
       "      <td>Alcohol</td>\n",
       "      <td>Amount of alcohol excise tax by beverage type ...</td>\n",
       "      <td>NaN</td>\n",
       "      <td>$</td>\n",
       "      <td>US Dollars</td>\n",
       "      <td>...</td>\n",
       "      <td>59</td>\n",
       "      <td>ALC</td>\n",
       "      <td>ALC8_0_2</td>\n",
       "      <td>USD</td>\n",
       "      <td>OVERALL</td>\n",
       "      <td>OVR</td>\n",
       "      <td>NaN</td>\n",
       "      <td>NaN</td>\n",
       "      <td>NaN</td>\n",
       "      <td>NaN</td>\n",
       "    </tr>\n",
       "    <tr>\n",
       "      <th>1</th>\n",
       "      <td>2012</td>\n",
       "      <td>2012</td>\n",
       "      <td>DC</td>\n",
       "      <td>District of Columbia</td>\n",
       "      <td>APIS</td>\n",
       "      <td>Alcohol</td>\n",
       "      <td>Amount of alcohol excise tax by beverage type ...</td>\n",
       "      <td>NaN</td>\n",
       "      <td>$</td>\n",
       "      <td>US Dollars</td>\n",
       "      <td>...</td>\n",
       "      <td>11</td>\n",
       "      <td>ALC</td>\n",
       "      <td>ALC8_0_1</td>\n",
       "      <td>USD</td>\n",
       "      <td>OVERALL</td>\n",
       "      <td>OVR</td>\n",
       "      <td>NaN</td>\n",
       "      <td>NaN</td>\n",
       "      <td>NaN</td>\n",
       "      <td>NaN</td>\n",
       "    </tr>\n",
       "    <tr>\n",
       "      <th>2</th>\n",
       "      <td>2012</td>\n",
       "      <td>2012</td>\n",
       "      <td>GU</td>\n",
       "      <td>Guam</td>\n",
       "      <td>APIS</td>\n",
       "      <td>Alcohol</td>\n",
       "      <td>Amount of alcohol excise tax by beverage type ...</td>\n",
       "      <td>NaN</td>\n",
       "      <td>$</td>\n",
       "      <td>US Dollars</td>\n",
       "      <td>...</td>\n",
       "      <td>66</td>\n",
       "      <td>ALC</td>\n",
       "      <td>ALC8_0_1</td>\n",
       "      <td>USD</td>\n",
       "      <td>OVERALL</td>\n",
       "      <td>OVR</td>\n",
       "      <td>NaN</td>\n",
       "      <td>NaN</td>\n",
       "      <td>NaN</td>\n",
       "      <td>NaN</td>\n",
       "    </tr>\n",
       "    <tr>\n",
       "      <th>3</th>\n",
       "      <td>2012</td>\n",
       "      <td>2012</td>\n",
       "      <td>PR</td>\n",
       "      <td>Puerto Rico</td>\n",
       "      <td>APIS</td>\n",
       "      <td>Alcohol</td>\n",
       "      <td>Amount of alcohol excise tax by beverage type ...</td>\n",
       "      <td>NaN</td>\n",
       "      <td>$</td>\n",
       "      <td>US Dollars</td>\n",
       "      <td>...</td>\n",
       "      <td>72</td>\n",
       "      <td>ALC</td>\n",
       "      <td>ALC8_0_1</td>\n",
       "      <td>USD</td>\n",
       "      <td>OVERALL</td>\n",
       "      <td>OVR</td>\n",
       "      <td>NaN</td>\n",
       "      <td>NaN</td>\n",
       "      <td>NaN</td>\n",
       "      <td>NaN</td>\n",
       "    </tr>\n",
       "    <tr>\n",
       "      <th>4</th>\n",
       "      <td>2012</td>\n",
       "      <td>2012</td>\n",
       "      <td>US</td>\n",
       "      <td>United States</td>\n",
       "      <td>APIS</td>\n",
       "      <td>Alcohol</td>\n",
       "      <td>Amount of alcohol excise tax by beverage type ...</td>\n",
       "      <td>NaN</td>\n",
       "      <td>$</td>\n",
       "      <td>US Dollars</td>\n",
       "      <td>...</td>\n",
       "      <td>59</td>\n",
       "      <td>ALC</td>\n",
       "      <td>ALC8_0_1</td>\n",
       "      <td>USD</td>\n",
       "      <td>OVERALL</td>\n",
       "      <td>OVR</td>\n",
       "      <td>NaN</td>\n",
       "      <td>NaN</td>\n",
       "      <td>NaN</td>\n",
       "      <td>NaN</td>\n",
       "    </tr>\n",
       "    <tr>\n",
       "      <th>5</th>\n",
       "      <td>2012</td>\n",
       "      <td>2012</td>\n",
       "      <td>VI</td>\n",
       "      <td>Virgin Islands</td>\n",
       "      <td>APIS</td>\n",
       "      <td>Alcohol</td>\n",
       "      <td>Amount of alcohol excise tax by beverage type ...</td>\n",
       "      <td>NaN</td>\n",
       "      <td>$</td>\n",
       "      <td>US Dollars</td>\n",
       "      <td>...</td>\n",
       "      <td>78</td>\n",
       "      <td>ALC</td>\n",
       "      <td>ALC8_0_1</td>\n",
       "      <td>USD</td>\n",
       "      <td>OVERALL</td>\n",
       "      <td>OVR</td>\n",
       "      <td>NaN</td>\n",
       "      <td>NaN</td>\n",
       "      <td>NaN</td>\n",
       "      <td>NaN</td>\n",
       "    </tr>\n",
       "    <tr>\n",
       "      <th>6</th>\n",
       "      <td>2012</td>\n",
       "      <td>2012</td>\n",
       "      <td>GU</td>\n",
       "      <td>Guam</td>\n",
       "      <td>APIS</td>\n",
       "      <td>Alcohol</td>\n",
       "      <td>Amount of alcohol excise tax by beverage type ...</td>\n",
       "      <td>NaN</td>\n",
       "      <td>$</td>\n",
       "      <td>US Dollars</td>\n",
       "      <td>...</td>\n",
       "      <td>66</td>\n",
       "      <td>ALC</td>\n",
       "      <td>ALC8_0_2</td>\n",
       "      <td>USD</td>\n",
       "      <td>OVERALL</td>\n",
       "      <td>OVR</td>\n",
       "      <td>NaN</td>\n",
       "      <td>NaN</td>\n",
       "      <td>NaN</td>\n",
       "      <td>NaN</td>\n",
       "    </tr>\n",
       "    <tr>\n",
       "      <th>...</th>\n",
       "      <td>...</td>\n",
       "      <td>...</td>\n",
       "      <td>...</td>\n",
       "      <td>...</td>\n",
       "      <td>...</td>\n",
       "      <td>...</td>\n",
       "      <td>...</td>\n",
       "      <td>...</td>\n",
       "      <td>...</td>\n",
       "      <td>...</td>\n",
       "      <td>...</td>\n",
       "      <td>...</td>\n",
       "      <td>...</td>\n",
       "      <td>...</td>\n",
       "      <td>...</td>\n",
       "      <td>...</td>\n",
       "      <td>...</td>\n",
       "      <td>...</td>\n",
       "      <td>...</td>\n",
       "      <td>...</td>\n",
       "      <td>...</td>\n",
       "    </tr>\n",
       "    <tr>\n",
       "      <th>519711</th>\n",
       "      <td>2014</td>\n",
       "      <td>2014</td>\n",
       "      <td>TN</td>\n",
       "      <td>Tennessee</td>\n",
       "      <td>State Inpatient Data</td>\n",
       "      <td>Asthma</td>\n",
       "      <td>Hospitalizations for asthma</td>\n",
       "      <td>NaN</td>\n",
       "      <td>cases per 10,000</td>\n",
       "      <td>Crude Rate</td>\n",
       "      <td>...</td>\n",
       "      <td>47</td>\n",
       "      <td>AST</td>\n",
       "      <td>AST3_1</td>\n",
       "      <td>CRDRATE</td>\n",
       "      <td>GENDER</td>\n",
       "      <td>GENF</td>\n",
       "      <td>NaN</td>\n",
       "      <td>NaN</td>\n",
       "      <td>NaN</td>\n",
       "      <td>NaN</td>\n",
       "    </tr>\n",
       "    <tr>\n",
       "      <th>519712</th>\n",
       "      <td>2016</td>\n",
       "      <td>2016</td>\n",
       "      <td>DC</td>\n",
       "      <td>District of Columbia</td>\n",
       "      <td>BRFSS</td>\n",
       "      <td>Cardiovascular Disease</td>\n",
       "      <td>Pneumococcal vaccination among noninstitutiona...</td>\n",
       "      <td>NaN</td>\n",
       "      <td>%</td>\n",
       "      <td>Age-adjusted Prevalence</td>\n",
       "      <td>...</td>\n",
       "      <td>11</td>\n",
       "      <td>CVD</td>\n",
       "      <td>CVD10_1</td>\n",
       "      <td>AGEADJPREV</td>\n",
       "      <td>GENDER</td>\n",
       "      <td>GENF</td>\n",
       "      <td>NaN</td>\n",
       "      <td>NaN</td>\n",
       "      <td>NaN</td>\n",
       "      <td>NaN</td>\n",
       "    </tr>\n",
       "    <tr>\n",
       "      <th>519713</th>\n",
       "      <td>2014</td>\n",
       "      <td>2014</td>\n",
       "      <td>DE</td>\n",
       "      <td>Delaware</td>\n",
       "      <td>BRFSS</td>\n",
       "      <td>Arthritis</td>\n",
       "      <td>Physical inactivity among adults aged &gt;= 18 ye...</td>\n",
       "      <td>NaN</td>\n",
       "      <td>%</td>\n",
       "      <td>Age-adjusted Prevalence</td>\n",
       "      <td>...</td>\n",
       "      <td>10</td>\n",
       "      <td>ART</td>\n",
       "      <td>ART3_0</td>\n",
       "      <td>AGEADJPREV</td>\n",
       "      <td>RACE</td>\n",
       "      <td>OTH</td>\n",
       "      <td>NaN</td>\n",
       "      <td>NaN</td>\n",
       "      <td>NaN</td>\n",
       "      <td>NaN</td>\n",
       "    </tr>\n",
       "    <tr>\n",
       "      <th>519714</th>\n",
       "      <td>2015</td>\n",
       "      <td>2015</td>\n",
       "      <td>OR</td>\n",
       "      <td>Oregon</td>\n",
       "      <td>BRFSS</td>\n",
       "      <td>Nutrition, Physical Activity, and Weight Status</td>\n",
       "      <td>Meeting aerobic physical activity guidelines f...</td>\n",
       "      <td>NaN</td>\n",
       "      <td>%</td>\n",
       "      <td>Crude Prevalence</td>\n",
       "      <td>...</td>\n",
       "      <td>41</td>\n",
       "      <td>NPAW</td>\n",
       "      <td>NPAW11_3</td>\n",
       "      <td>CRDPREV</td>\n",
       "      <td>GENDER</td>\n",
       "      <td>GENF</td>\n",
       "      <td>NaN</td>\n",
       "      <td>NaN</td>\n",
       "      <td>NaN</td>\n",
       "      <td>NaN</td>\n",
       "    </tr>\n",
       "    <tr>\n",
       "      <th>519715</th>\n",
       "      <td>2014</td>\n",
       "      <td>2014</td>\n",
       "      <td>AR</td>\n",
       "      <td>Arkansas</td>\n",
       "      <td>State Inpatient Data</td>\n",
       "      <td>Chronic Obstructive Pulmonary Disease</td>\n",
       "      <td>Hospitalization for chronic obstructive pulmon...</td>\n",
       "      <td>NaN</td>\n",
       "      <td>cases per 10,000</td>\n",
       "      <td>Crude Rate</td>\n",
       "      <td>...</td>\n",
       "      <td>5</td>\n",
       "      <td>COPD</td>\n",
       "      <td>COPD5_1</td>\n",
       "      <td>CRDRATE</td>\n",
       "      <td>GENDER</td>\n",
       "      <td>GENF</td>\n",
       "      <td>NaN</td>\n",
       "      <td>NaN</td>\n",
       "      <td>NaN</td>\n",
       "      <td>NaN</td>\n",
       "    </tr>\n",
       "    <tr>\n",
       "      <th>519716</th>\n",
       "      <td>2016</td>\n",
       "      <td>2016</td>\n",
       "      <td>CT</td>\n",
       "      <td>Connecticut</td>\n",
       "      <td>BRFSS</td>\n",
       "      <td>Cardiovascular Disease</td>\n",
       "      <td>Influenza vaccination among noninstitutionaliz...</td>\n",
       "      <td>NaN</td>\n",
       "      <td>%</td>\n",
       "      <td>Age-adjusted Prevalence</td>\n",
       "      <td>...</td>\n",
       "      <td>9</td>\n",
       "      <td>CVD</td>\n",
       "      <td>CVD9_2</td>\n",
       "      <td>AGEADJPREV</td>\n",
       "      <td>RACE</td>\n",
       "      <td>HIS</td>\n",
       "      <td>NaN</td>\n",
       "      <td>NaN</td>\n",
       "      <td>NaN</td>\n",
       "      <td>NaN</td>\n",
       "    </tr>\n",
       "    <tr>\n",
       "      <th>519717</th>\n",
       "      <td>2013</td>\n",
       "      <td>2013</td>\n",
       "      <td>TX</td>\n",
       "      <td>Texas</td>\n",
       "      <td>BRFSS</td>\n",
       "      <td>Nutrition, Physical Activity, and Weight Status</td>\n",
       "      <td>Meeting aerobic physical activity guidelines f...</td>\n",
       "      <td>NaN</td>\n",
       "      <td>%</td>\n",
       "      <td>Crude Prevalence</td>\n",
       "      <td>...</td>\n",
       "      <td>48</td>\n",
       "      <td>NPAW</td>\n",
       "      <td>NPAW11_3</td>\n",
       "      <td>CRDPREV</td>\n",
       "      <td>GENDER</td>\n",
       "      <td>GENF</td>\n",
       "      <td>NaN</td>\n",
       "      <td>NaN</td>\n",
       "      <td>NaN</td>\n",
       "      <td>NaN</td>\n",
       "    </tr>\n",
       "  </tbody>\n",
       "</table>\n",
       "<p>519718 rows × 34 columns</p>\n",
       "</div>"
      ],
      "text/plain": [
       "        YearStart  YearEnd LocationAbbr          LocationDesc  \\\n",
       "0            2015     2015           US         United States   \n",
       "1            2012     2012           DC  District of Columbia   \n",
       "2            2012     2012           GU                  Guam   \n",
       "3            2012     2012           PR           Puerto Rico   \n",
       "4            2012     2012           US         United States   \n",
       "5            2012     2012           VI        Virgin Islands   \n",
       "6            2012     2012           GU                  Guam   \n",
       "...           ...      ...          ...                   ...   \n",
       "519711       2014     2014           TN             Tennessee   \n",
       "519712       2016     2016           DC  District of Columbia   \n",
       "519713       2014     2014           DE              Delaware   \n",
       "519714       2015     2015           OR                Oregon   \n",
       "519715       2014     2014           AR              Arkansas   \n",
       "519716       2016     2016           CT           Connecticut   \n",
       "519717       2013     2013           TX                 Texas   \n",
       "\n",
       "                  DataSource                                            Topic  \\\n",
       "0                       APIS                                          Alcohol   \n",
       "1                       APIS                                          Alcohol   \n",
       "2                       APIS                                          Alcohol   \n",
       "3                       APIS                                          Alcohol   \n",
       "4                       APIS                                          Alcohol   \n",
       "5                       APIS                                          Alcohol   \n",
       "6                       APIS                                          Alcohol   \n",
       "...                      ...                                              ...   \n",
       "519711  State Inpatient Data                                           Asthma   \n",
       "519712                 BRFSS                           Cardiovascular Disease   \n",
       "519713                 BRFSS                                        Arthritis   \n",
       "519714                 BRFSS  Nutrition, Physical Activity, and Weight Status   \n",
       "519715  State Inpatient Data            Chronic Obstructive Pulmonary Disease   \n",
       "519716                 BRFSS                           Cardiovascular Disease   \n",
       "519717                 BRFSS  Nutrition, Physical Activity, and Weight Status   \n",
       "\n",
       "                                                 Question Response  \\\n",
       "0       Amount of alcohol excise tax by beverage type ...      NaN   \n",
       "1       Amount of alcohol excise tax by beverage type ...      NaN   \n",
       "2       Amount of alcohol excise tax by beverage type ...      NaN   \n",
       "3       Amount of alcohol excise tax by beverage type ...      NaN   \n",
       "4       Amount of alcohol excise tax by beverage type ...      NaN   \n",
       "5       Amount of alcohol excise tax by beverage type ...      NaN   \n",
       "6       Amount of alcohol excise tax by beverage type ...      NaN   \n",
       "...                                                   ...      ...   \n",
       "519711                        Hospitalizations for asthma      NaN   \n",
       "519712  Pneumococcal vaccination among noninstitutiona...      NaN   \n",
       "519713  Physical inactivity among adults aged >= 18 ye...      NaN   \n",
       "519714  Meeting aerobic physical activity guidelines f...      NaN   \n",
       "519715  Hospitalization for chronic obstructive pulmon...      NaN   \n",
       "519716  Influenza vaccination among noninstitutionaliz...      NaN   \n",
       "519717  Meeting aerobic physical activity guidelines f...      NaN   \n",
       "\n",
       "           DataValueUnit            DataValueType  ... LocationID  TopicID  \\\n",
       "0                      $               US Dollars  ...         59      ALC   \n",
       "1                      $               US Dollars  ...         11      ALC   \n",
       "2                      $               US Dollars  ...         66      ALC   \n",
       "3                      $               US Dollars  ...         72      ALC   \n",
       "4                      $               US Dollars  ...         59      ALC   \n",
       "5                      $               US Dollars  ...         78      ALC   \n",
       "6                      $               US Dollars  ...         66      ALC   \n",
       "...                  ...                      ...  ...        ...      ...   \n",
       "519711  cases per 10,000               Crude Rate  ...         47      AST   \n",
       "519712                 %  Age-adjusted Prevalence  ...         11      CVD   \n",
       "519713                 %  Age-adjusted Prevalence  ...         10      ART   \n",
       "519714                 %         Crude Prevalence  ...         41     NPAW   \n",
       "519715  cases per 10,000               Crude Rate  ...          5     COPD   \n",
       "519716                 %  Age-adjusted Prevalence  ...          9      CVD   \n",
       "519717                 %         Crude Prevalence  ...         48     NPAW   \n",
       "\n",
       "       QuestionID DataValueTypeID  StratificationCategoryID1  \\\n",
       "0        ALC8_0_2             USD                    OVERALL   \n",
       "1        ALC8_0_1             USD                    OVERALL   \n",
       "2        ALC8_0_1             USD                    OVERALL   \n",
       "3        ALC8_0_1             USD                    OVERALL   \n",
       "4        ALC8_0_1             USD                    OVERALL   \n",
       "5        ALC8_0_1             USD                    OVERALL   \n",
       "6        ALC8_0_2             USD                    OVERALL   \n",
       "...           ...             ...                        ...   \n",
       "519711     AST3_1         CRDRATE                     GENDER   \n",
       "519712    CVD10_1      AGEADJPREV                     GENDER   \n",
       "519713     ART3_0      AGEADJPREV                       RACE   \n",
       "519714   NPAW11_3         CRDPREV                     GENDER   \n",
       "519715    COPD5_1         CRDRATE                     GENDER   \n",
       "519716     CVD9_2      AGEADJPREV                       RACE   \n",
       "519717   NPAW11_3         CRDPREV                     GENDER   \n",
       "\n",
       "        StratificationID1 StratificationCategoryID2 StratificationID2  \\\n",
       "0                     OVR                       NaN               NaN   \n",
       "1                     OVR                       NaN               NaN   \n",
       "2                     OVR                       NaN               NaN   \n",
       "3                     OVR                       NaN               NaN   \n",
       "4                     OVR                       NaN               NaN   \n",
       "5                     OVR                       NaN               NaN   \n",
       "6                     OVR                       NaN               NaN   \n",
       "...                   ...                       ...               ...   \n",
       "519711               GENF                       NaN               NaN   \n",
       "519712               GENF                       NaN               NaN   \n",
       "519713                OTH                       NaN               NaN   \n",
       "519714               GENF                       NaN               NaN   \n",
       "519715               GENF                       NaN               NaN   \n",
       "519716                HIS                       NaN               NaN   \n",
       "519717               GENF                       NaN               NaN   \n",
       "\n",
       "       StratificationCategoryID3 StratificationID3  \n",
       "0                            NaN               NaN  \n",
       "1                            NaN               NaN  \n",
       "2                            NaN               NaN  \n",
       "3                            NaN               NaN  \n",
       "4                            NaN               NaN  \n",
       "5                            NaN               NaN  \n",
       "6                            NaN               NaN  \n",
       "...                          ...               ...  \n",
       "519711                       NaN               NaN  \n",
       "519712                       NaN               NaN  \n",
       "519713                       NaN               NaN  \n",
       "519714                       NaN               NaN  \n",
       "519715                       NaN               NaN  \n",
       "519716                       NaN               NaN  \n",
       "519717                       NaN               NaN  \n",
       "\n",
       "[519718 rows x 34 columns]"
      ]
     },
     "execution_count": 2,
     "metadata": {},
     "output_type": "execute_result"
    }
   ],
   "source": [
    "# read .csv file into a DataFrame\n",
    "loc = 'U.S._Chronic_Disease_Indicators__CDI_.csv'\n",
    "Chronic_Diseases = pd.read_csv(loc)\n",
    "Chronic_Diseases"
   ]
  },
  {
   "cell_type": "code",
   "execution_count": 3,
   "metadata": {},
   "outputs": [
    {
     "name": "stdout",
     "output_type": "stream",
     "text": [
      "(519718, 34)\n",
      "           YearStart        YearEnd  DataValueAlt  LowConfidenceLimit  \\\n",
      "count  519718.000000  519718.000000  3.503350e+05       311062.000000   \n",
      "mean     2013.141885    2013.162754  8.917742e+02           46.759401   \n",
      "std         1.777622       1.762672  1.833073e+04           77.492628   \n",
      "min      2001.000000    2001.000000  0.000000e+00            0.200000   \n",
      "25%      2012.000000    2012.000000  1.845500e+01           12.700000   \n",
      "50%      2013.000000    2013.000000  4.100000e+01           30.200000   \n",
      "75%      2015.000000    2015.000000  7.030000e+01           55.400000   \n",
      "max      2016.000000    2016.000000  2.600878e+06         1330.660000   \n",
      "\n",
      "       HighConfidenceLimit     LocationID  \n",
      "count        311062.000000  519718.000000  \n",
      "mean             58.991287      30.993144  \n",
      "std              88.668862      17.723341  \n",
      "min               0.420000       1.000000  \n",
      "25%              18.900000      17.000000  \n",
      "50%              43.800000      30.000000  \n",
      "75%              70.400000      45.000000  \n",
      "max            2088.000000      78.000000  \n"
     ]
    }
   ],
   "source": [
    "# browse data structure and contents\n",
    "print(Chronic_Diseases.shape)\n",
    "print(Chronic_Diseases.describe())"
   ]
  },
  {
   "cell_type": "code",
   "execution_count": 4,
   "metadata": {},
   "outputs": [
    {
     "data": {
      "text/plain": [
       "YearStart                         0\n",
       "YearEnd                           0\n",
       "LocationAbbr                      0\n",
       "LocationDesc                      0\n",
       "DataSource                        0\n",
       "Topic                             0\n",
       "Question                          0\n",
       "                              ...  \n",
       "DataValueTypeID                   0\n",
       "StratificationCategoryID1         0\n",
       "StratificationID1                 0\n",
       "StratificationCategoryID2    440529\n",
       "StratificationID2            440529\n",
       "StratificationCategoryID3    440530\n",
       "StratificationID3            440530\n",
       "Length: 34, dtype: int64"
      ]
     },
     "execution_count": 4,
     "metadata": {},
     "output_type": "execute_result"
    }
   ],
   "source": [
    "Chronic_Diseases.isna().sum()"
   ]
  },
  {
   "cell_type": "markdown",
   "metadata": {},
   "source": [
    "## Explore Contents in the Response Column"
   ]
  },
  {
   "cell_type": "code",
   "execution_count": 5,
   "metadata": {},
   "outputs": [
    {
     "data": {
      "text/plain": [
       "440530"
      ]
     },
     "execution_count": 5,
     "metadata": {},
     "output_type": "execute_result"
    }
   ],
   "source": [
    "# number of missing values\n",
    "Chronic_Diseases.get(\"Response\").isna().sum()"
   ]
  },
  {
   "cell_type": "code",
   "execution_count": 6,
   "metadata": {},
   "outputs": [
    {
     "data": {
      "text/plain": [
       "     79188\n",
       "Name: Response, dtype: int64"
      ]
     },
     "execution_count": 6,
     "metadata": {},
     "output_type": "execute_result"
    }
   ],
   "source": [
    "# All remaining non-missing responses are blank\n",
    "Chronic_Diseases[Chronic_Diseases.get(\"Response\").notna()].get(\"Response\").value_counts()"
   ]
  },
  {
   "cell_type": "markdown",
   "metadata": {},
   "source": [
    "Since there is no meaningful data in the response column, it will be dropped."
   ]
  },
  {
   "cell_type": "code",
   "execution_count": 7,
   "metadata": {},
   "outputs": [],
   "source": [
    "Chronic_Diseases.drop(columns=\"Response\", inplace=True)"
   ]
  },
  {
   "cell_type": "markdown",
   "metadata": {},
   "source": [
    "## Explore DataSources"
   ]
  },
  {
   "cell_type": "code",
   "execution_count": 11,
   "metadata": {},
   "outputs": [
    {
     "data": {
      "text/plain": [
       "0"
      ]
     },
     "execution_count": 11,
     "metadata": {},
     "output_type": "execute_result"
    }
   ],
   "source": [
    "Chronic_Diseases.get(\"DataSource\").isna().sum()"
   ]
  },
  {
   "cell_type": "markdown",
   "metadata": {},
   "source": [
    "### The dataset contains information from *32* different sources"
   ]
  },
  {
   "cell_type": "code",
   "execution_count": 14,
   "metadata": {},
   "outputs": [
    {
     "data": {
      "text/plain": [
       "(32,)"
      ]
     },
     "execution_count": 14,
     "metadata": {},
     "output_type": "execute_result"
    }
   ],
   "source": [
    "# This dataset consists of 32 various sources\n",
    "Chronic_Diseases.get(\"DataSource\").value_counts().shape"
   ]
  },
  {
   "cell_type": "markdown",
   "metadata": {},
   "source": [
    "## Explore Stratification Categories"
   ]
  },
  {
   "cell_type": "markdown",
   "metadata": {},
   "source": [
    "### Stratification Category 1 contains `RACE`,`GENDER`,`OVERALL`"
   ]
  },
  {
   "cell_type": "code",
   "execution_count": 15,
   "metadata": {},
   "outputs": [
    {
     "data": {
      "text/plain": [
       "RACE       320170\n",
       "GENDER     121660\n",
       "OVERALL     77888\n",
       "Name: StratificationCategoryID1, dtype: int64"
      ]
     },
     "execution_count": 15,
     "metadata": {},
     "output_type": "execute_result"
    }
   ],
   "source": [
    "Chronic_Diseases.get(\"StratificationCategoryID1\").value_counts()"
   ]
  },
  {
   "cell_type": "markdown",
   "metadata": {},
   "source": [
    "### Stratification Category 2 contains all `NULL` and `BLANK` values"
   ]
  },
  {
   "cell_type": "code",
   "execution_count": 24,
   "metadata": {},
   "outputs": [
    {
     "name": "stdout",
     "output_type": "stream",
     "text": [
      "440529\n",
      "     79189\n",
      "Name: StratificationCategoryID2, dtype: int64\n"
     ]
    }
   ],
   "source": [
    "print(Chronic_Diseases.get(\"StratificationCategoryID2\").isna().sum())\n",
    "print(Chronic_Diseases.get(\"StratificationCategoryID2\").value_counts())"
   ]
  },
  {
   "cell_type": "code",
   "execution_count": 25,
   "metadata": {},
   "outputs": [],
   "source": [
    "# Drop the Stratification ID2 column\n",
    "Chronic_Diseases.drop(columns=\"StratificationCategoryID2\",inplace=True)"
   ]
  },
  {
   "cell_type": "markdown",
   "metadata": {},
   "source": [
    "### Stratification Category 3 also contains all `NULL` and `BLANK` values"
   ]
  },
  {
   "cell_type": "code",
   "execution_count": 27,
   "metadata": {},
   "outputs": [
    {
     "name": "stdout",
     "output_type": "stream",
     "text": [
      "440530\n"
     ]
    },
    {
     "data": {
      "text/plain": [
       "     79188\n",
       "Name: StratificationCategoryID3, dtype: int64"
      ]
     },
     "execution_count": 27,
     "metadata": {},
     "output_type": "execute_result"
    }
   ],
   "source": [
    "print(Chronic_Diseases.get(\"StratificationCategoryID3\").isna().sum())\n",
    "Chronic_Diseases.get(\"StratificationCategoryID3\").value_counts()"
   ]
  },
  {
   "cell_type": "code",
   "execution_count": 28,
   "metadata": {},
   "outputs": [],
   "source": [
    "# Drop the Stratification ID3 column\n",
    "Chronic_Diseases.drop(columns=\"StratificationCategoryID3\",inplace=True)"
   ]
  },
  {
   "cell_type": "markdown",
   "metadata": {},
   "source": [
    "## Explore Stratification IDs"
   ]
  },
  {
   "cell_type": "markdown",
   "metadata": {},
   "source": [
    "### Stratification ID1 contains 11 subcategories relating to `RACE`, `GENDER`, `OVERALL`"
   ]
  },
  {
   "cell_type": "code",
   "execution_count": 30,
   "metadata": {},
   "outputs": [
    {
     "name": "stdout",
     "output_type": "stream",
     "text": [
      "0\n"
     ]
    },
    {
     "data": {
      "text/plain": [
       "OVR     77888\n",
       "HIS     64034\n",
       "WHT     64034\n",
       "BLK     64034\n",
       "GENM    60830\n",
       "GENF    60830\n",
       "OTH     46441\n",
       "MRC     46441\n",
       "AIAN    17593\n",
       "API     16851\n",
       "ASN       742\n",
       "Name: StratificationID1, dtype: int64"
      ]
     },
     "execution_count": 30,
     "metadata": {},
     "output_type": "execute_result"
    }
   ],
   "source": [
    "print(Chronic_Diseases.get(\"StratificationID1\").isna().sum())\n",
    "print(Chronic_Diseases.get(\"StratificationID1\").value_counts())"
   ]
  },
  {
   "cell_type": "markdown",
   "metadata": {},
   "source": [
    "### Stratification ID2 contains all `NULL` and `BLANK`"
   ]
  },
  {
   "cell_type": "code",
   "execution_count": 31,
   "metadata": {},
   "outputs": [
    {
     "name": "stdout",
     "output_type": "stream",
     "text": [
      "440529\n",
      "     79189\n",
      "Name: StratificationID2, dtype: int64\n"
     ]
    }
   ],
   "source": [
    "print(Chronic_Diseases.get(\"StratificationID2\").isna().sum())\n",
    "print(Chronic_Diseases.get(\"StratificationID2\").value_counts())"
   ]
  },
  {
   "cell_type": "code",
   "execution_count": 33,
   "metadata": {},
   "outputs": [],
   "source": [
    "# Drop Stratification ID2 column\n",
    "Chronic_Diseases.drop(columns=\"StratificationID2\", inplace=True)"
   ]
  },
  {
   "cell_type": "markdown",
   "metadata": {},
   "source": [
    "### Stratification ID3 contains all `NULL` and `BLANK`"
   ]
  },
  {
   "cell_type": "code",
   "execution_count": 32,
   "metadata": {},
   "outputs": [
    {
     "name": "stdout",
     "output_type": "stream",
     "text": [
      "440530\n",
      "     79188\n",
      "Name: StratificationID3, dtype: int64\n"
     ]
    }
   ],
   "source": [
    "print(Chronic_Diseases.get(\"StratificationID3\").isna().sum())\n",
    "print(Chronic_Diseases.get(\"StratificationID3\").value_counts())"
   ]
  },
  {
   "cell_type": "code",
   "execution_count": 35,
   "metadata": {},
   "outputs": [],
   "source": [
    "# Drop Stratification ID3 column\n",
    "Chronic_Diseases.drop(columns=\"StratificationID3\", inplace=True)"
   ]
  },
  {
   "cell_type": "markdown",
   "metadata": {},
   "source": [
    "## Explore Stratification Numbers"
   ]
  },
  {
   "cell_type": "code",
   "execution_count": 50,
   "metadata": {},
   "outputs": [
    {
     "name": "stdout",
     "output_type": "stream",
     "text": [
      "0\n",
      "Race/Ethnicity    320170\n",
      "Gender            121660\n",
      "Overall            77888\n",
      "Name: StratificationCategory1, dtype: int64\n",
      "440530\n",
      "     79188\n",
      "Name: StratificationCategory2, dtype: int64\n",
      "440530\n",
      "     79188\n",
      "Name: StratificationCategory3, dtype: int64\n"
     ]
    }
   ],
   "source": [
    "print(Chronic_Diseases.get(\"StratificationCategory1\").isna().sum())\n",
    "print(Chronic_Diseases.get(\"StratificationCategory1\").value_counts())\n",
    "print(Chronic_Diseases.get(\"StratificationCategory2\").isna().sum())\n",
    "print(Chronic_Diseases.get(\"StratificationCategory2\").value_counts())\n",
    "print(Chronic_Diseases.get(\"StratificationCategory3\").isna().sum())\n",
    "print(Chronic_Diseases.get(\"StratificationCategory3\").value_counts())"
   ]
  },
  {
   "cell_type": "code",
   "execution_count": 51,
   "metadata": {},
   "outputs": [
    {
     "name": "stdout",
     "output_type": "stream",
     "text": [
      "0\n",
      "Overall                             77888\n",
      "Hispanic                            64034\n",
      "Black, non-Hispanic                 64034\n",
      "White, non-Hispanic                 64034\n",
      "Male                                60830\n",
      "Female                              60830\n",
      "Multiracial, non-Hispanic           46441\n",
      "Other, non-Hispanic                 46441\n",
      "American Indian or Alaska Native    17593\n",
      "Asian or Pacific Islander           16851\n",
      "Asian, non-Hispanic                   742\n",
      "Name: Stratification1, dtype: int64\n",
      "440530\n",
      "     79188\n",
      "Name: Stratification2, dtype: int64\n",
      "440530\n",
      "     79188\n",
      "Name: Stratification3, dtype: int64\n"
     ]
    }
   ],
   "source": [
    "print(Chronic_Diseases.get(\"Stratification1\").isna().sum())\n",
    "print(Chronic_Diseases.get(\"Stratification1\").value_counts())\n",
    "print(Chronic_Diseases.get(\"Stratification2\").isna().sum())\n",
    "print(Chronic_Diseases.get(\"Stratification2\").value_counts())\n",
    "print(Chronic_Diseases.get(\"Stratification3\").isna().sum())\n",
    "print(Chronic_Diseases.get(\"Stratification3\").value_counts())"
   ]
  },
  {
   "cell_type": "code",
   "execution_count": 52,
   "metadata": {},
   "outputs": [],
   "source": [
    "Chronic_Diseases.drop(columns=['Stratification2','Stratification3','StratificationCategory2','StratificationCategory3'],inplace=True)"
   ]
  },
  {
   "cell_type": "markdown",
   "metadata": {},
   "source": [
    "## Next, let's see if there are redundant columns"
   ]
  },
  {
   "cell_type": "code",
   "execution_count": 53,
   "metadata": {},
   "outputs": [
    {
     "data": {
      "text/plain": [
       "Index(['YearStart', 'YearEnd', 'LocationAbbr', 'LocationDesc', 'DataSource',\n",
       "       'Topic', 'Question', 'DataValueUnit', 'DataValueType', 'DataValue',\n",
       "       'DataValueAlt', 'DataValueFootnoteSymbol', 'DatavalueFootnote',\n",
       "       'LowConfidenceLimit', 'HighConfidenceLimit', 'StratificationCategory1',\n",
       "       'Stratification1', 'GeoLocation', 'ResponseID', 'LocationID', 'TopicID',\n",
       "       'QuestionID', 'DataValueTypeID', 'StratificationCategoryID1',\n",
       "       'StratificationID1'],\n",
       "      dtype='object')"
      ]
     },
     "execution_count": 53,
     "metadata": {},
     "output_type": "execute_result"
    }
   ],
   "source": [
    "Chronic_Diseases.columns"
   ]
  },
  {
   "cell_type": "code",
   "execution_count": 54,
   "metadata": {},
   "outputs": [
    {
     "data": {
      "text/html": [
       "<div>\n",
       "<style scoped>\n",
       "    .dataframe tbody tr th:only-of-type {\n",
       "        vertical-align: middle;\n",
       "    }\n",
       "\n",
       "    .dataframe tbody tr th {\n",
       "        vertical-align: top;\n",
       "    }\n",
       "\n",
       "    .dataframe thead th {\n",
       "        text-align: right;\n",
       "    }\n",
       "</style>\n",
       "<table border=\"1\" class=\"dataframe\">\n",
       "  <thead>\n",
       "    <tr style=\"text-align: right;\">\n",
       "      <th></th>\n",
       "      <th>c1</th>\n",
       "      <th>c2</th>\n",
       "    </tr>\n",
       "  </thead>\n",
       "  <tbody>\n",
       "    <tr>\n",
       "      <th>0</th>\n",
       "      <td>Overall</td>\n",
       "      <td>OVERALL</td>\n",
       "    </tr>\n",
       "    <tr>\n",
       "      <th>1</th>\n",
       "      <td>Overall</td>\n",
       "      <td>OVERALL</td>\n",
       "    </tr>\n",
       "    <tr>\n",
       "      <th>2</th>\n",
       "      <td>Overall</td>\n",
       "      <td>OVERALL</td>\n",
       "    </tr>\n",
       "    <tr>\n",
       "      <th>3</th>\n",
       "      <td>Overall</td>\n",
       "      <td>OVERALL</td>\n",
       "    </tr>\n",
       "    <tr>\n",
       "      <th>4</th>\n",
       "      <td>Overall</td>\n",
       "      <td>OVERALL</td>\n",
       "    </tr>\n",
       "    <tr>\n",
       "      <th>5</th>\n",
       "      <td>Overall</td>\n",
       "      <td>OVERALL</td>\n",
       "    </tr>\n",
       "    <tr>\n",
       "      <th>6</th>\n",
       "      <td>Overall</td>\n",
       "      <td>OVERALL</td>\n",
       "    </tr>\n",
       "    <tr>\n",
       "      <th>...</th>\n",
       "      <td>...</td>\n",
       "      <td>...</td>\n",
       "    </tr>\n",
       "    <tr>\n",
       "      <th>519711</th>\n",
       "      <td>Gender</td>\n",
       "      <td>GENDER</td>\n",
       "    </tr>\n",
       "    <tr>\n",
       "      <th>519712</th>\n",
       "      <td>Gender</td>\n",
       "      <td>GENDER</td>\n",
       "    </tr>\n",
       "    <tr>\n",
       "      <th>519713</th>\n",
       "      <td>Race/Ethnicity</td>\n",
       "      <td>RACE</td>\n",
       "    </tr>\n",
       "    <tr>\n",
       "      <th>519714</th>\n",
       "      <td>Gender</td>\n",
       "      <td>GENDER</td>\n",
       "    </tr>\n",
       "    <tr>\n",
       "      <th>519715</th>\n",
       "      <td>Gender</td>\n",
       "      <td>GENDER</td>\n",
       "    </tr>\n",
       "    <tr>\n",
       "      <th>519716</th>\n",
       "      <td>Race/Ethnicity</td>\n",
       "      <td>RACE</td>\n",
       "    </tr>\n",
       "    <tr>\n",
       "      <th>519717</th>\n",
       "      <td>Gender</td>\n",
       "      <td>GENDER</td>\n",
       "    </tr>\n",
       "  </tbody>\n",
       "</table>\n",
       "<p>519718 rows × 2 columns</p>\n",
       "</div>"
      ],
      "text/plain": [
       "                    c1       c2\n",
       "0              Overall  OVERALL\n",
       "1              Overall  OVERALL\n",
       "2              Overall  OVERALL\n",
       "3              Overall  OVERALL\n",
       "4              Overall  OVERALL\n",
       "5              Overall  OVERALL\n",
       "6              Overall  OVERALL\n",
       "...                ...      ...\n",
       "519711          Gender   GENDER\n",
       "519712          Gender   GENDER\n",
       "519713  Race/Ethnicity     RACE\n",
       "519714          Gender   GENDER\n",
       "519715          Gender   GENDER\n",
       "519716  Race/Ethnicity     RACE\n",
       "519717          Gender   GENDER\n",
       "\n",
       "[519718 rows x 2 columns]"
      ]
     },
     "execution_count": 54,
     "metadata": {},
     "output_type": "execute_result"
    }
   ],
   "source": [
    "stratification_category = pd.DataFrame().assign(c1=Chronic_Diseases.get(\"StratificationCategory1\"), c2=Chronic_Diseases.get(\"StratificationCategoryID1\"))\n",
    "stratification_category"
   ]
  },
  {
   "cell_type": "code",
   "execution_count": null,
   "metadata": {},
   "outputs": [],
   "source": []
  }
 ],
 "metadata": {
  "kernelspec": {
   "display_name": "Python 3",
   "language": "python",
   "name": "python3"
  },
  "language_info": {
   "codemirror_mode": {
    "name": "ipython",
    "version": 3
   },
   "file_extension": ".py",
   "mimetype": "text/x-python",
   "name": "python",
   "nbconvert_exporter": "python",
   "pygments_lexer": "ipython3",
   "version": "3.7.3"
  }
 },
 "nbformat": 4,
 "nbformat_minor": 2
}
